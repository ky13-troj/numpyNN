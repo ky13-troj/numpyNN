{
 "cells": [
  {
   "cell_type": "code",
   "execution_count": 1,
   "metadata": {},
   "outputs": [
    {
     "name": "stderr",
     "output_type": "stream",
     "text": [
      "2024-05-01 20:51:05.076838: I tensorflow/core/platform/cpu_feature_guard.cc:210] This TensorFlow binary is optimized to use available CPU instructions in performance-critical operations.\n",
      "To enable the following instructions: AVX2 FMA, in other operations, rebuild TensorFlow with the appropriate compiler flags.\n",
      "2024-05-01 20:51:09.876639: W tensorflow/compiler/tf2tensorrt/utils/py_utils.cc:38] TF-TRT Warning: Could not find TensorRT\n"
     ]
    }
   ],
   "source": [
    "from warnings import filterwarnings\n",
    "import numpy as np\n",
    "from tensorflow.keras.layers import Dense # type: ignore\n"
   ]
  },
  {
   "cell_type": "code",
   "execution_count": 6,
   "metadata": {},
   "outputs": [
    {
     "name": "stdout",
     "output_type": "stream",
     "text": [
      "Yes\n"
     ]
    }
   ],
   "source": [
    "x = np.array([[200.0, 17.0]])\n",
    "\n",
    "layer_1 = Dense(units=3, activation='sigmoid')\n",
    "\n",
    "layer_2 = Dense(units=1, activation='sigmoid')\n",
    "\n",
    "layer_1_output = layer_1(x)\n",
    "layer_2_output = layer_2(layer_1_output)\n",
    "\n",
    "if layer_2_output>= 0.5:\n",
    "    print(\"Yes\")\n",
    "else:\n",
    "    print(\"No\")"
   ]
  },
  {
   "cell_type": "code",
   "execution_count": 7,
   "metadata": {},
   "outputs": [],
   "source": [
    "W = np.array([\n",
    "    [1, -3, 5],\n",
    "    [2, 4, -6]])"
   ]
  },
  {
   "cell_type": "code",
   "execution_count": 8,
   "metadata": {},
   "outputs": [
    {
     "data": {
      "text/plain": [
       "array([-3,  4])"
      ]
     },
     "execution_count": 8,
     "metadata": {},
     "output_type": "execute_result"
    }
   ],
   "source": [
    "W[:, 1]"
   ]
  },
  {
   "cell_type": "code",
   "execution_count": 9,
   "metadata": {},
   "outputs": [
    {
     "data": {
      "text/plain": [
       "(2, 3)"
      ]
     },
     "execution_count": 9,
     "metadata": {},
     "output_type": "execute_result"
    }
   ],
   "source": [
    "W.shape"
   ]
  },
  {
   "cell_type": "code",
   "execution_count": 10,
   "metadata": {},
   "outputs": [
    {
     "name": "stdout",
     "output_type": "stream",
     "text": [
      "[array([1, 2]), array([-3,  4]), array([ 5, -6])]\n"
     ]
    }
   ],
   "source": [
    "units = W.shape[1]\n",
    "\n",
    "weight = [W[:, i] for i in range(0, units)]\n",
    "# for i in range(0, units):\n",
    "print(weight)"
   ]
  },
  {
   "cell_type": "code",
   "execution_count": 11,
   "metadata": {},
   "outputs": [
    {
     "name": "stdout",
     "output_type": "stream",
     "text": [
      "Output of 4-unit layer before activation: [[0.99 1.14 1.29 1.44]]\n",
      "Output of 4-unit layer after activation: [[0.72908792 0.75767964 0.78414719 0.80845465]]\n"
     ]
    }
   ],
   "source": [
    "import numpy as np\n",
    "\n",
    "# Define the output of the 3-unit layer (example values)\n",
    "output_3_units = np.array([[0.2, 0.5, 0.8]])  # Shape: (1, 3)\n",
    "\n",
    "# Define the weight matrix connecting the 3-unit layer to the 4-unit layer (example values)\n",
    "weights_3_to_4 = np.array([[0.1, 0.2, 0.3, 0.4],\n",
    "                            [0.5, 0.6, 0.7, 0.8],\n",
    "                            [0.9, 1.0, 1.1, 1.2]])  # Shape: (3, 4)\n",
    "\n",
    "# Perform the matrix multiplication to propagate forward\n",
    "output_4_units = np.dot(output_3_units, weights_3_to_4)  # Shape: (1, 4)\n",
    "\n",
    "def sigmoid(x):\n",
    "    return 1 / (1 + np.exp(-x))\n",
    "\n",
    "output_4_units_activation = sigmoid(output_4_units)\n",
    "\n",
    "print(\"Output of 4-unit layer before activation:\", output_4_units)\n",
    "print(\"Output of 4-unit layer after activation:\", output_4_units_activation)\n"
   ]
  },
  {
   "cell_type": "code",
   "execution_count": 14,
   "metadata": {},
   "outputs": [],
   "source": [
    "import numpy as np\n",
    "\n",
    "# Sigmoid activation function\n",
    "def sigmoid(x):\n",
    "    return 1 / (1 + np.exp(-x))\n",
    "\n",
    "def dense(ip, weights, bias):\n",
    "    units = weights.shape[1]\n",
    "    weight = [weights[:, i] for i in range(units)]\n",
    "    g = np.empty((1, units))  # Initialize an empty array for output\n",
    "    \n",
    "    for i in range(units):\n",
    "        z = np.dot(ip, weight[i]) + bias[i]\n",
    "        g[0, i] = sigmoid(z)[0]\n",
    "    \n",
    "    return g\n",
    "\n",
    "def layers(n, weights_list, bias_list, ip):\n",
    "    if n == 0:\n",
    "        return ip  \n",
    "    else:\n",
    "        output = dense(ip, weights_list[len(weights_list) - n], bias_list[len(bias_list) - n])\n",
    "        # print(output)\n",
    "        return layers(n - 1, weights_list, bias_list, output)"
   ]
  },
  {
   "cell_type": "code",
   "execution_count": 15,
   "metadata": {},
   "outputs": [],
   "source": [
    "# Define the weights and biases for each layer\n",
    "weights = [\n",
    "    np.array([[1, -3, 5], [2, 4, -6]]),   # Weights for the first layer (2x3)\n",
    "    np.array([[-1, 1, 2, 7], [1, 2, 3, -3], [1, 2, 3, 4]]),  # Weights for the second layer (2x4)\n",
    "    np.array([[-1, 6], [1, -2], [1, 2], [1, 3]])  # Weights for the third layer (2x2)\n",
    "]\n",
    "\n",
    "biases = [\n",
    "    np.array([-1, 1, 2]),  # Biases for the first layer (1x3)\n",
    "    np.array([1, 2, 3, 4]),  # Biases for the second layer (1x4)\n",
    "    np.array([1, 2])  # Biases for the third layer (1x2)\n",
    "]\n",
    "\n",
    "# Example input data\n",
    "input_data = np.array([[200.0, 17.0]])"
   ]
  },
  {
   "cell_type": "code",
   "execution_count": 16,
   "metadata": {},
   "outputs": [
    {
     "data": {
      "text/plain": [
       "array([[0.96309883, 0.99991721]])"
      ]
     },
     "execution_count": 16,
     "metadata": {},
     "output_type": "execute_result"
    }
   ],
   "source": [
    "layers(3, weights, biases, input_data)"
   ]
  },
  {
   "cell_type": "code",
   "execution_count": null,
   "metadata": {},
   "outputs": [],
   "source": []
  }
 ],
 "metadata": {
  "kernelspec": {
   "display_name": "n3ur4l_n3tw0rk-env",
   "language": "python",
   "name": "python3"
  },
  "language_info": {
   "codemirror_mode": {
    "name": "ipython",
    "version": 3
   },
   "file_extension": ".py",
   "mimetype": "text/x-python",
   "name": "python",
   "nbconvert_exporter": "python",
   "pygments_lexer": "ipython3",
   "version": "3.10.12"
  }
 },
 "nbformat": 4,
 "nbformat_minor": 2
}
